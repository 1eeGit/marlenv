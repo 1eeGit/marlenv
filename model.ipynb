{
 "cells": [
  {
   "cell_type": "code",
   "execution_count": null,
   "metadata": {},
   "outputs": [],
   "source": [
    "### notebook for initial model training"
   ]
  },
  {
   "cell_type": "code",
   "execution_count": 4,
   "metadata": {},
   "outputs": [
    {
     "name": "stderr",
     "output_type": "stream",
     "text": [
      "/home/lee/miniconda3/envs/RL/lib/python3.12/pty.py:95: DeprecationWarning: This process (pid=12161) is multi-threaded, use of forkpty() may lead to deadlocks in the child.\n",
      "  pid, fd = os.forkpty()\n"
     ]
    },
    {
     "name": "stdout",
     "output_type": "stream",
     "text": [
      "fatal: destination path 'marlenv' already exists and is not an empty directory.\n",
      "Already on '1eeGit-patch-1'\n",
      "Your branch is up to date with 'origin/1eeGit-patch-1'.\n",
      "Obtaining file:///home/lee/marlenv\n",
      "  Preparing metadata (setup.py) ... \u001b[?25ldone\n",
      "\u001b[?25hCollecting gym==0.24.1 (from marlenv==1.0.1)\n",
      "  Using cached gym-0.24.1-py3-none-any.whl\n",
      "Requirement already satisfied: numpy>=1.18.0 in /home/lee/miniconda3/envs/RL/lib/python3.12/site-packages (from gym==0.24.1->marlenv==1.0.1) (2.0.1)\n",
      "Requirement already satisfied: cloudpickle>=1.2.0 in /home/lee/miniconda3/envs/RL/lib/python3.12/site-packages (from gym==0.24.1->marlenv==1.0.1) (3.0.0)\n",
      "Requirement already satisfied: gym-notices>=0.0.4 in /home/lee/miniconda3/envs/RL/lib/python3.12/site-packages (from gym==0.24.1->marlenv==1.0.1) (0.0.8)\n",
      "Installing collected packages: gym, marlenv\n",
      "  Attempting uninstall: gym\n",
      "    Found existing installation: gym 0.25.1\n",
      "    Uninstalling gym-0.25.1:\n",
      "      Successfully uninstalled gym-0.25.1\n",
      "  Attempting uninstall: marlenv\n",
      "    Found existing installation: marlenv 1.0.1\n",
      "    Uninstalling marlenv-1.0.1:\n",
      "      Successfully uninstalled marlenv-1.0.1\n",
      "\u001b[33m  DEPRECATION: Legacy editable install of marlenv==1.0.1 from file:///home/lee/marlenv (setup.py develop) is deprecated. pip 25.0 will enforce this behaviour change. A possible replacement is to add a pyproject.toml or enable --use-pep517, and use setuptools >= 64. If the resulting installation is not behaving as expected, try using --config-settings editable_mode=compat. Please consult the setuptools documentation for more information. Discussion can be found at https://github.com/pypa/pip/issues/11457\u001b[0m\u001b[33m\n",
      "\u001b[0m  Running setup.py develop for marlenv\n",
      "Successfully installed gym-0.24.1 marlenv-1.0.1\n"
     ]
    }
   ],
   "source": [
    "# !git clone https://github.com/1eeGit/marlenv.git\n",
    "# !cd marlenv\n",
    "# !git checkout 1eeGit-patch-1\n",
    "# !pip install -e ."
   ]
  },
  {
   "cell_type": "code",
   "execution_count": 7,
   "metadata": {},
   "outputs": [],
   "source": [
    "import gym\n",
    "import marlenv\n",
    "env = gym.make(\n",
    "    'Snake-v1',\n",
    "    height=20,       # Height of the grid map\n",
    "    width=20,        # Width of the grid map\n",
    "    num_snakes=4,    # Number of snakes to spawn on grid\n",
    "    snake_length=3,  # Initial length of the snake at spawn time\n",
    "    vision_range=5,  # Vision range (both width height), map returned if None\n",
    "    frame_stack=1,   # Number of observations to stack on return\n",
    ")"
   ]
  },
  {
   "cell_type": "code",
   "execution_count": 9,
   "metadata": {},
   "outputs": [
    {
     "name": "stderr",
     "output_type": "stream",
     "text": [
      "/home/lee/miniconda3/envs/RL/lib/python3.12/site-packages/gym/utils/passive_env_checker.py:31: UserWarning: \u001b[33mWARN: A Box observation space has an unconventional shape (neither an image, nor a 1D vector). We recommend flattening the observation to have only a 1D vector or use a custom policy to properly process the data. Actual observation shape: (1, 20, 20, 8)\u001b[0m\n",
      "  logger.warn(\n"
     ]
    }
   ],
   "source": [
    "\n",
    "env = gym.make('Snake-v1', num_snakes=1)\n",
    "env = marlenv.wrappers.SingleAgent(env)"
   ]
  },
  {
   "cell_type": "code",
   "execution_count": 10,
   "metadata": {},
   "outputs": [],
   "source": [
    "# Automatically chooses wrappers to handle single agent, multi-agent, vector_env, etc.\n",
    "env, observation_space, action_space, properties = marlenv.wrappers.make_snake(\n",
    "    num_envs=1,  # Number of environments. Used to decided vector env or not\n",
    "    num_snakes=4,  # Number of players. Use to determine single/multi agent\n",
    "    #**kwargs  # Other input parameters to the environment\n",
    ")"
   ]
  },
  {
   "cell_type": "code",
   "execution_count": 11,
   "metadata": {},
   "outputs": [],
   "source": [
    "custom_reward_func = {\n",
    "    'fruit': 1.0,\n",
    "    'kill': 1.5,\n",
    "    'lose': -10.0,\n",
    "    'time': 0.1,\n",
    "    'win': 10.0\n",
    "}\n",
    "env = gym.make('Snake-v1', reward_func=custom_reward_func)"
   ]
  },
  {
   "cell_type": "code",
   "execution_count": null,
   "metadata": {},
   "outputs": [
    {
     "data": {
      "text/plain": [
       "<module 'marlenv' from '/home/lee/marlenv/marlenv/__init__.py'>"
      ]
     },
     "execution_count": 2,
     "metadata": {},
     "output_type": "execute_result"
    }
   ],
   "source": [
    "import importlib\n",
    "import marlenv\n",
    "importlib.reload(marlenv)\n"
   ]
  },
  {
   "cell_type": "code",
   "execution_count": null,
   "metadata": {},
   "outputs": [
    {
     "name": "stderr",
     "output_type": "stream",
     "text": [
      "/home/lee/miniconda3/envs/RL/lib/python3.12/pty.py:95: DeprecationWarning: This process (pid=7204) is multi-threaded, use of forkpty() may lead to deadlocks in the child.\n",
      "  pid, fd = os.forkpty()\n"
     ]
    }
   ],
   "source": [
    "!cd marlenv"
   ]
  },
  {
   "cell_type": "code",
   "execution_count": 12,
   "metadata": {},
   "outputs": [
    {
     "name": "stderr",
     "output_type": "stream",
     "text": [
      "/home/lee/miniconda3/envs/RL/lib/python3.12/pty.py:95: DeprecationWarning: This process (pid=12161) is multi-threaded, use of forkpty() may lead to deadlocks in the child.\n",
      "  pid, fd = os.forkpty()\n"
     ]
    },
    {
     "name": "stdout",
     "output_type": "stream",
     "text": [
      "\u001b[1m============================= test session starts ==============================\u001b[0m\n",
      "platform linux -- Python 3.12.5, pytest-8.3.2, pluggy-1.5.0\n",
      "rootdir: /home/lee/marlenv\n",
      "plugins: anyio-4.4.0\n",
      "collected 5 items                                                              \u001b[0m\u001b[1m\n",
      "\n",
      "tests/test_snake.py \u001b[32m.\u001b[0m\u001b[32m.\u001b[0m\u001b[32m.\u001b[0m\u001b[32m.\u001b[0m\u001b[32m.\u001b[0m\u001b[32m                                                [100%]\u001b[0m\n",
      "\n",
      "\u001b[32m============================== \u001b[32m\u001b[1m5 passed\u001b[0m\u001b[32m in 4.28s\u001b[0m\u001b[32m ===============================\u001b[0m\n"
     ]
    }
   ],
   "source": [
    "!pytest"
   ]
  },
  {
   "cell_type": "code",
   "execution_count": null,
   "metadata": {},
   "outputs": [],
   "source": []
  }
 ],
 "metadata": {
  "kernelspec": {
   "display_name": "Python 3 (ipykernel)",
   "language": "python",
   "name": "python3"
  },
  "language_info": {
   "codemirror_mode": {
    "name": "ipython",
    "version": 3
   },
   "file_extension": ".py",
   "mimetype": "text/x-python",
   "name": "python",
   "nbconvert_exporter": "python",
   "pygments_lexer": "ipython3",
   "version": "3.12.5"
  }
 },
 "nbformat": 4,
 "nbformat_minor": 2
}
